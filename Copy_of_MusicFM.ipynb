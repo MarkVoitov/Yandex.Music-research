{
  "nbformat": 4,
  "nbformat_minor": 0,
  "metadata": {
    "colab": {
      "name": "Copy of MusicFM.ipynb",
      "provenance": [],
      "collapsed_sections": [],
      "include_colab_link": true
    },
    "kernelspec": {
      "name": "python3",
      "display_name": "Python 3"
    }
  },
  "cells": [
    {
      "cell_type": "markdown",
      "metadata": {
        "id": "view-in-github",
        "colab_type": "text"
      },
      "source": [
        "<a href=\"https://colab.research.google.com/github/MarkVoitov/Yandex.Music-research/blob/master/Copy_of_MusicFM.ipynb\" target=\"_parent\"><img src=\"https://colab.research.google.com/assets/colab-badge.svg\" alt=\"Open In Colab\"/></a>"
      ]
    },
    {
      "cell_type": "markdown",
      "metadata": {
        "id": "m9m8D2oq300e",
        "colab_type": "text"
      },
      "source": [
        "# Как работает Google Colab"
      ]
    },
    {
      "cell_type": "markdown",
      "metadata": {
        "id": "8QSLTVnl37QH",
        "colab_type": "text"
      },
      "source": [
        "#Установка библиотек ура"
      ]
    },
    {
      "cell_type": "code",
      "metadata": {
        "id": "M0AVFwdN32xD",
        "colab_type": "code",
        "colab": {
          "base_uri": "https://localhost:8080/",
          "height": 453
        },
        "outputId": "82a80103-f6de-4f0b-c3d2-9e739a1dc8c5"
      },
      "source": [
        "#Устанавливаем библиотеку lightfm\n",
        "pip install lightfm nmslib"
      ],
      "execution_count": 1,
      "outputs": [
        {
          "output_type": "stream",
          "text": [
            "Collecting lightfm\n",
            "\u001b[?25l  Downloading https://files.pythonhosted.org/packages/e9/8e/5485ac5a8616abe1c673d1e033e2f232b4319ab95424b42499fabff2257f/lightfm-1.15.tar.gz (302kB)\n",
            "\u001b[K     |████████████████████████████████| 307kB 8.2MB/s \n",
            "\u001b[?25hCollecting nmslib\n",
            "\u001b[?25l  Downloading https://files.pythonhosted.org/packages/d5/fd/7d7428d29f12be5d1cc6d586d425b795cc9c596ae669593fd4f388602010/nmslib-2.0.6-cp36-cp36m-manylinux2010_x86_64.whl (12.9MB)\n",
            "\u001b[K     |████████████████████████████████| 13.0MB 13.8MB/s \n",
            "\u001b[?25hRequirement already satisfied: numpy in /usr/local/lib/python3.6/dist-packages (from lightfm) (1.18.4)\n",
            "Requirement already satisfied: scipy>=0.17.0 in /usr/local/lib/python3.6/dist-packages (from lightfm) (1.4.1)\n",
            "Requirement already satisfied: requests in /usr/local/lib/python3.6/dist-packages (from lightfm) (2.23.0)\n",
            "Requirement already satisfied: psutil in /usr/local/lib/python3.6/dist-packages (from nmslib) (5.4.8)\n",
            "Collecting pybind11>=2.2.3\n",
            "\u001b[?25l  Downloading https://files.pythonhosted.org/packages/89/e3/d576f6f02bc75bacbc3d42494e8f1d063c95617d86648dba243c2cb3963e/pybind11-2.5.0-py2.py3-none-any.whl (296kB)\n",
            "\u001b[K     |████████████████████████████████| 296kB 46.4MB/s \n",
            "\u001b[?25hRequirement already satisfied: chardet<4,>=3.0.2 in /usr/local/lib/python3.6/dist-packages (from requests->lightfm) (3.0.4)\n",
            "Requirement already satisfied: certifi>=2017.4.17 in /usr/local/lib/python3.6/dist-packages (from requests->lightfm) (2020.4.5.1)\n",
            "Requirement already satisfied: urllib3!=1.25.0,!=1.25.1,<1.26,>=1.21.1 in /usr/local/lib/python3.6/dist-packages (from requests->lightfm) (1.24.3)\n",
            "Requirement already satisfied: idna<3,>=2.5 in /usr/local/lib/python3.6/dist-packages (from requests->lightfm) (2.9)\n",
            "Building wheels for collected packages: lightfm\n",
            "  Building wheel for lightfm (setup.py) ... \u001b[?25l\u001b[?25hdone\n",
            "  Created wheel for lightfm: filename=lightfm-1.15-cp36-cp36m-linux_x86_64.whl size=709147 sha256=d44845ed91b55f70a766064e55fef78e661fd679f5d2ac4afcdab4c94cbf5c0b\n",
            "  Stored in directory: /root/.cache/pip/wheels/eb/bb/ac/188385a5da6627956be5d9663928483b36da576149ab5b8f79\n",
            "Successfully built lightfm\n",
            "Installing collected packages: lightfm, pybind11, nmslib\n",
            "Successfully installed lightfm-1.15 nmslib-2.0.6 pybind11-2.5.0\n"
          ],
          "name": "stdout"
        }
      ]
    },
    {
      "cell_type": "markdown",
      "metadata": {
        "id": "QUm7mOhx3LHl",
        "colab_type": "text"
      },
      "source": [
        "#Скачиваем данные\n",
        "\n"
      ]
    },
    {
      "cell_type": "code",
      "metadata": {
        "id": "UPQfdRdorKNo",
        "colab_type": "code",
        "outputId": "ba66880a-07c9-4ee1-e9d9-87eb5a633bcc",
        "colab": {
          "base_uri": "https://localhost:8080/",
          "height": 295
        }
      },
      "source": [
        "!wget https://github.com/avlord/MusicFM/raw/master/music.csv"
      ],
      "execution_count": 2,
      "outputs": [
        {
          "output_type": "stream",
          "text": [
            "--2020-05-10 11:23:36--  https://github.com/avlord/MusicFM/raw/master/music.csv\n",
            "Resolving github.com (github.com)... 140.82.118.3\n",
            "Connecting to github.com (github.com)|140.82.118.3|:443... connected.\n",
            "HTTP request sent, awaiting response... 302 Found\n",
            "Location: https://raw.githubusercontent.com/avlord/MusicFM/master/music.csv [following]\n",
            "--2020-05-10 11:23:36--  https://raw.githubusercontent.com/avlord/MusicFM/master/music.csv\n",
            "Resolving raw.githubusercontent.com (raw.githubusercontent.com)... 151.101.0.133, 151.101.64.133, 151.101.128.133, ...\n",
            "Connecting to raw.githubusercontent.com (raw.githubusercontent.com)|151.101.0.133|:443... connected.\n",
            "HTTP request sent, awaiting response... 200 OK\n",
            "Length: 10491891 (10M) [text/plain]\n",
            "Saving to: ‘music.csv’\n",
            "\n",
            "\rmusic.csv             0%[                    ]       0  --.-KB/s               \rmusic.csv           100%[===================>]  10.00M  59.1MB/s    in 0.2s    \n",
            "\n",
            "2020-05-10 11:23:37 (59.1 MB/s) - ‘music.csv’ saved [10491891/10491891]\n",
            "\n"
          ],
          "name": "stdout"
        }
      ]
    },
    {
      "cell_type": "markdown",
      "metadata": {
        "id": "3tZjJIZ_LH6P",
        "colab_type": "text"
      },
      "source": [
        "#Импортируем модули из библиотеки"
      ]
    },
    {
      "cell_type": "code",
      "metadata": {
        "id": "QWTwcT-Qqiuu",
        "colab_type": "code",
        "colab": {}
      },
      "source": [
        "from lightfm import LightFM\n",
        "import nmslib\n",
        "import pandas as pd\n",
        "from scipy.sparse import coo_matrix"
      ],
      "execution_count": 0,
      "outputs": []
    },
    {
      "cell_type": "markdown",
      "metadata": {
        "id": "uPBJkfxiQGii",
        "colab_type": "text"
      },
      "source": [
        "# Вспомогательные функции"
      ]
    },
    {
      "cell_type": "code",
      "metadata": {
        "id": "VXvDJRHyMmCd",
        "colab_type": "code",
        "colab": {}
      },
      "source": [
        "# #Это вспомогательная функция, которая преобразует данные к удобному виду\n",
        "def update_data(music):\n",
        "  ratings_coo = coo_matrix((music['rating'],(music['id'],music['artist_id'])))\n",
        "  return ratings_coo"
      ],
      "execution_count": 0,
      "outputs": []
    },
    {
      "cell_type": "code",
      "metadata": {
        "id": "zRostxq7QF6h",
        "colab_type": "code",
        "colab": {}
      },
      "source": [
        "# Функция для работы с поиском\n",
        "def init_nms (item_embeddings):\n",
        "  # initialize a new nmslib index, using a HNSW index on Cosine Similarity\n",
        "  nms_idx = nmslib.init(method='hnsw', space='cosinesimil')\n",
        "  nms_idx.addDataPointBatch(item_embeddings)\n",
        "  nms_idx.createIndex(print_progress=True)\n",
        "  return nms_idx"
      ],
      "execution_count": 0,
      "outputs": []
    },
    {
      "cell_type": "markdown",
      "metadata": {
        "id": "V6ldPMsBLFq8",
        "colab_type": "text"
      },
      "source": [
        "# Загружаем данные\n"
      ]
    },
    {
      "cell_type": "markdown",
      "metadata": {
        "id": "lvmaBpzX3xFK",
        "colab_type": "text"
      },
      "source": [
        "А что у нас за данные?\n"
      ]
    },
    {
      "cell_type": "code",
      "metadata": {
        "id": "momgZsUL0SCn",
        "colab_type": "code",
        "colab": {}
      },
      "source": [
        "music =  pd.read_csv('music.csv')\n",
        "ratings_sparse = update_data(music)"
      ],
      "execution_count": 0,
      "outputs": []
    },
    {
      "cell_type": "markdown",
      "metadata": {
        "id": "3rKFXrhSLDhb",
        "colab_type": "text"
      },
      "source": [
        "#Чтобы вывести данные, нужно ввести имя таблицы и запустить ячейку кликнув на значок play \n",
        "\n"
      ]
    },
    {
      "cell_type": "code",
      "metadata": {
        "id": "5gKfzWob-gpi",
        "colab_type": "code",
        "colab": {
          "base_uri": "https://localhost:8080/",
          "height": 415
        },
        "outputId": "13546634-49bf-4d22-ba3e-c4737b46f0fa"
      },
      "source": [
        "# Вывести таблицу music путем ввода её названия music\n",
        "# Ваш код тут:\n",
        "music"
      ],
      "execution_count": 13,
      "outputs": [
        {
          "output_type": "execute_result",
          "data": {
            "text/html": [
              "<div>\n",
              "<style scoped>\n",
              "    .dataframe tbody tr th:only-of-type {\n",
              "        vertical-align: middle;\n",
              "    }\n",
              "\n",
              "    .dataframe tbody tr th {\n",
              "        vertical-align: top;\n",
              "    }\n",
              "\n",
              "    .dataframe thead th {\n",
              "        text-align: right;\n",
              "    }\n",
              "</style>\n",
              "<table border=\"1\" class=\"dataframe\">\n",
              "  <thead>\n",
              "    <tr style=\"text-align: right;\">\n",
              "      <th></th>\n",
              "      <th>users</th>\n",
              "      <th>artist</th>\n",
              "      <th>artist_name</th>\n",
              "      <th>play_times</th>\n",
              "      <th>id</th>\n",
              "      <th>artist_id</th>\n",
              "      <th>rating</th>\n",
              "    </tr>\n",
              "  </thead>\n",
              "  <tbody>\n",
              "    <tr>\n",
              "      <th>0</th>\n",
              "      <td>00000c289a1829a808ac09c00daf10bc3c4e223b</td>\n",
              "      <td>3bd73256-3905-4f3a-97e2-8b341527f805</td>\n",
              "      <td>betty blowtorch</td>\n",
              "      <td>2137</td>\n",
              "      <td>0</td>\n",
              "      <td>0</td>\n",
              "      <td>1</td>\n",
              "    </tr>\n",
              "    <tr>\n",
              "      <th>1</th>\n",
              "      <td>00000c289a1829a808ac09c00daf10bc3c4e223b</td>\n",
              "      <td>f2fb0ff0-5679-42ec-a55c-15109ce6e320</td>\n",
              "      <td>die Ärzte</td>\n",
              "      <td>1099</td>\n",
              "      <td>0</td>\n",
              "      <td>1</td>\n",
              "      <td>1</td>\n",
              "    </tr>\n",
              "    <tr>\n",
              "      <th>2</th>\n",
              "      <td>00000c289a1829a808ac09c00daf10bc3c4e223b</td>\n",
              "      <td>b3ae82c2-e60b-4551-a76d-6620f1b456aa</td>\n",
              "      <td>melissa etheridge</td>\n",
              "      <td>897</td>\n",
              "      <td>0</td>\n",
              "      <td>2</td>\n",
              "      <td>1</td>\n",
              "    </tr>\n",
              "    <tr>\n",
              "      <th>3</th>\n",
              "      <td>00000c289a1829a808ac09c00daf10bc3c4e223b</td>\n",
              "      <td>3d6bbeb7-f90e-4d10-b440-e153c0d10b53</td>\n",
              "      <td>elvenking</td>\n",
              "      <td>717</td>\n",
              "      <td>0</td>\n",
              "      <td>3</td>\n",
              "      <td>1</td>\n",
              "    </tr>\n",
              "    <tr>\n",
              "      <th>4</th>\n",
              "      <td>00000c289a1829a808ac09c00daf10bc3c4e223b</td>\n",
              "      <td>bbd2ffd7-17f4-4506-8572-c1ea58c3f9a8</td>\n",
              "      <td>juliette &amp; the licks</td>\n",
              "      <td>706</td>\n",
              "      <td>0</td>\n",
              "      <td>4</td>\n",
              "      <td>1</td>\n",
              "    </tr>\n",
              "    <tr>\n",
              "      <th>...</th>\n",
              "      <td>...</td>\n",
              "      <td>...</td>\n",
              "      <td>...</td>\n",
              "      <td>...</td>\n",
              "      <td>...</td>\n",
              "      <td>...</td>\n",
              "      <td>...</td>\n",
              "    </tr>\n",
              "    <tr>\n",
              "      <th>99995</th>\n",
              "      <td>0169cfa637a59ab654efdbe5fce27c14edf6be5a</td>\n",
              "      <td>dcb03ce3-67a5-4eb3-b2d1-2a12d93a38f3</td>\n",
              "      <td>b.b. king</td>\n",
              "      <td>47</td>\n",
              "      <td>2032</td>\n",
              "      <td>5243</td>\n",
              "      <td>1</td>\n",
              "    </tr>\n",
              "    <tr>\n",
              "      <th>99996</th>\n",
              "      <td>0169cfa637a59ab654efdbe5fce27c14edf6be5a</td>\n",
              "      <td>f86f1f07-d182-45ce-ae93-ef610880ca72</td>\n",
              "      <td>muddy waters</td>\n",
              "      <td>41</td>\n",
              "      <td>2032</td>\n",
              "      <td>1107</td>\n",
              "      <td>1</td>\n",
              "    </tr>\n",
              "    <tr>\n",
              "      <th>99997</th>\n",
              "      <td>0169cfa637a59ab654efdbe5fce27c14edf6be5a</td>\n",
              "      <td>f1d7f1fd-8883-47e9-ad2b-e9ec9ff61aac</td>\n",
              "      <td>sam &amp; dave</td>\n",
              "      <td>32</td>\n",
              "      <td>2032</td>\n",
              "      <td>2627</td>\n",
              "      <td>1</td>\n",
              "    </tr>\n",
              "    <tr>\n",
              "      <th>99998</th>\n",
              "      <td>0169cfa637a59ab654efdbe5fce27c14edf6be5a</td>\n",
              "      <td>5545a012-0977-46ff-9d69-39bf5952616f</td>\n",
              "      <td>little walter</td>\n",
              "      <td>28</td>\n",
              "      <td>2032</td>\n",
              "      <td>21145</td>\n",
              "      <td>1</td>\n",
              "    </tr>\n",
              "    <tr>\n",
              "      <th>99999</th>\n",
              "      <td>0169cfa637a59ab654efdbe5fce27c14edf6be5a</td>\n",
              "      <td>a634953a-e8fa-4879-8b1c-26024b3d3cb6</td>\n",
              "      <td>エレファントカシマシ</td>\n",
              "      <td>25</td>\n",
              "      <td>2032</td>\n",
              "      <td>22174</td>\n",
              "      <td>1</td>\n",
              "    </tr>\n",
              "  </tbody>\n",
              "</table>\n",
              "<p>100000 rows × 7 columns</p>\n",
              "</div>"
            ],
            "text/plain": [
              "                                          users  ... rating\n",
              "0      00000c289a1829a808ac09c00daf10bc3c4e223b  ...      1\n",
              "1      00000c289a1829a808ac09c00daf10bc3c4e223b  ...      1\n",
              "2      00000c289a1829a808ac09c00daf10bc3c4e223b  ...      1\n",
              "3      00000c289a1829a808ac09c00daf10bc3c4e223b  ...      1\n",
              "4      00000c289a1829a808ac09c00daf10bc3c4e223b  ...      1\n",
              "...                                         ...  ...    ...\n",
              "99995  0169cfa637a59ab654efdbe5fce27c14edf6be5a  ...      1\n",
              "99996  0169cfa637a59ab654efdbe5fce27c14edf6be5a  ...      1\n",
              "99997  0169cfa637a59ab654efdbe5fce27c14edf6be5a  ...      1\n",
              "99998  0169cfa637a59ab654efdbe5fce27c14edf6be5a  ...      1\n",
              "99999  0169cfa637a59ab654efdbe5fce27c14edf6be5a  ...      1\n",
              "\n",
              "[100000 rows x 7 columns]"
            ]
          },
          "metadata": {
            "tags": []
          },
          "execution_count": 13
        }
      ]
    },
    {
      "cell_type": "markdown",
      "metadata": {
        "id": "lXdsNulF3pRg",
        "colab_type": "text"
      },
      "source": [
        "## **Напишем код, чтобы вывести 5 первых записей**\n"
      ]
    },
    {
      "cell_type": "markdown",
      "metadata": {
        "id": "2qkIKk6u0cQ7",
        "colab_type": "text"
      },
      "source": [
        "Табличные функции в Pandas / Python\n",
        "Можно вызывать через точку со скобочками\".\" -> music.название_функции();\n",
        "Обращение к столбцам\n",
        "\n"
      ]
    },
    {
      "cell_type": "code",
      "metadata": {
        "id": "1IzgeJ6d3fW3",
        "colab_type": "code",
        "colab": {
          "base_uri": "https://localhost:8080/",
          "height": 141
        },
        "outputId": "2e7df681-5c04-4895-ee8b-5ae9d61c6804"
      },
      "source": [
        "# Чтобы вывести первые элементы, нужно воспользоваться функцией head \n",
        "# Ваш код тут:\n",
        "music.head(3)"
      ],
      "execution_count": 16,
      "outputs": [
        {
          "output_type": "execute_result",
          "data": {
            "text/html": [
              "<div>\n",
              "<style scoped>\n",
              "    .dataframe tbody tr th:only-of-type {\n",
              "        vertical-align: middle;\n",
              "    }\n",
              "\n",
              "    .dataframe tbody tr th {\n",
              "        vertical-align: top;\n",
              "    }\n",
              "\n",
              "    .dataframe thead th {\n",
              "        text-align: right;\n",
              "    }\n",
              "</style>\n",
              "<table border=\"1\" class=\"dataframe\">\n",
              "  <thead>\n",
              "    <tr style=\"text-align: right;\">\n",
              "      <th></th>\n",
              "      <th>users</th>\n",
              "      <th>artist</th>\n",
              "      <th>artist_name</th>\n",
              "      <th>play_times</th>\n",
              "      <th>id</th>\n",
              "      <th>artist_id</th>\n",
              "      <th>rating</th>\n",
              "    </tr>\n",
              "  </thead>\n",
              "  <tbody>\n",
              "    <tr>\n",
              "      <th>0</th>\n",
              "      <td>00000c289a1829a808ac09c00daf10bc3c4e223b</td>\n",
              "      <td>3bd73256-3905-4f3a-97e2-8b341527f805</td>\n",
              "      <td>betty blowtorch</td>\n",
              "      <td>2137</td>\n",
              "      <td>0</td>\n",
              "      <td>0</td>\n",
              "      <td>1</td>\n",
              "    </tr>\n",
              "    <tr>\n",
              "      <th>1</th>\n",
              "      <td>00000c289a1829a808ac09c00daf10bc3c4e223b</td>\n",
              "      <td>f2fb0ff0-5679-42ec-a55c-15109ce6e320</td>\n",
              "      <td>die Ärzte</td>\n",
              "      <td>1099</td>\n",
              "      <td>0</td>\n",
              "      <td>1</td>\n",
              "      <td>1</td>\n",
              "    </tr>\n",
              "    <tr>\n",
              "      <th>2</th>\n",
              "      <td>00000c289a1829a808ac09c00daf10bc3c4e223b</td>\n",
              "      <td>b3ae82c2-e60b-4551-a76d-6620f1b456aa</td>\n",
              "      <td>melissa etheridge</td>\n",
              "      <td>897</td>\n",
              "      <td>0</td>\n",
              "      <td>2</td>\n",
              "      <td>1</td>\n",
              "    </tr>\n",
              "  </tbody>\n",
              "</table>\n",
              "</div>"
            ],
            "text/plain": [
              "                                      users  ... rating\n",
              "0  00000c289a1829a808ac09c00daf10bc3c4e223b  ...      1\n",
              "1  00000c289a1829a808ac09c00daf10bc3c4e223b  ...      1\n",
              "2  00000c289a1829a808ac09c00daf10bc3c4e223b  ...      1\n",
              "\n",
              "[3 rows x 7 columns]"
            ]
          },
          "metadata": {
            "tags": []
          },
          "execution_count": 16
        }
      ]
    },
    {
      "cell_type": "markdown",
      "metadata": {
        "id": "u85nS9zWLT4C",
        "colab_type": "text"
      },
      "source": [
        "## Напишите код, чтобы вывести оценки"
      ]
    },
    {
      "cell_type": "code",
      "metadata": {
        "id": "W3sZmgOJ3bVg",
        "colab_type": "code",
        "outputId": "b36074d6-c3d9-4ae8-eef0-69ef3767f35e",
        "colab": {
          "base_uri": "https://localhost:8080/",
          "height": 35
        }
      },
      "source": [
        "# Количество прослушиваний - play_times, чтобы посмотреть максимально и минимальное число прослушиваний, воспользуемся .max(), .min()\n",
        "# Ваш код тут:\n",
        "music.play_times.min()\n"
      ],
      "execution_count": 19,
      "outputs": [
        {
          "output_type": "execute_result",
          "data": {
            "text/plain": [
              "1"
            ]
          },
          "metadata": {
            "tags": []
          },
          "execution_count": 19
        }
      ]
    },
    {
      "cell_type": "markdown",
      "metadata": {
        "id": "4ZDxSSgL5wov",
        "colab_type": "text"
      },
      "source": [
        "# Смотрим музыку"
      ]
    },
    {
      "cell_type": "code",
      "metadata": {
        "id": "nVL7BRFmxiOB",
        "colab_type": "code",
        "cellView": "both",
        "outputId": "6d72c2d4-4fcf-4459-9185-fa6ff539760f",
        "colab": {
          "base_uri": "https://localhost:8080/",
          "height": 509
        }
      },
      "source": [
        "#Тут ничего писать не надо, \n",
        "#давайте посмотрим код!\n",
        "#@title Выберем исполнителя\n",
        "artist_name = \"astral projection\" #@param {type:\"string\"}\n",
        "music[music['artist_name'].str.find(artist_name)>=0]"
      ],
      "execution_count": 26,
      "outputs": [
        {
          "output_type": "execute_result",
          "data": {
            "text/html": [
              "<div>\n",
              "<style scoped>\n",
              "    .dataframe tbody tr th:only-of-type {\n",
              "        vertical-align: middle;\n",
              "    }\n",
              "\n",
              "    .dataframe tbody tr th {\n",
              "        vertical-align: top;\n",
              "    }\n",
              "\n",
              "    .dataframe thead th {\n",
              "        text-align: right;\n",
              "    }\n",
              "</style>\n",
              "<table border=\"1\" class=\"dataframe\">\n",
              "  <thead>\n",
              "    <tr style=\"text-align: right;\">\n",
              "      <th></th>\n",
              "      <th>users</th>\n",
              "      <th>artist</th>\n",
              "      <th>artist_name</th>\n",
              "      <th>play_times</th>\n",
              "      <th>id</th>\n",
              "      <th>artist_id</th>\n",
              "      <th>rating</th>\n",
              "    </tr>\n",
              "  </thead>\n",
              "  <tbody>\n",
              "    <tr>\n",
              "      <th>4854</th>\n",
              "      <td>00108be8919f5f8e1249af2207579f9861c1e1d6</td>\n",
              "      <td>2ba31cc4-df9e-4c21-9dbc-bb8fa9af424f</td>\n",
              "      <td>astral projection</td>\n",
              "      <td>104</td>\n",
              "      <td>99</td>\n",
              "      <td>2999</td>\n",
              "      <td>1</td>\n",
              "    </tr>\n",
              "    <tr>\n",
              "      <th>20009</th>\n",
              "      <td>0047f55f1afb53fe486b76cc67957bdef7da9de3</td>\n",
              "      <td>2ba31cc4-df9e-4c21-9dbc-bb8fa9af424f</td>\n",
              "      <td>astral projection</td>\n",
              "      <td>10</td>\n",
              "      <td>404</td>\n",
              "      <td>2999</td>\n",
              "      <td>1</td>\n",
              "    </tr>\n",
              "    <tr>\n",
              "      <th>24219</th>\n",
              "      <td>005866ea52fa3ec8b92f30a547eaf7614daf4246</td>\n",
              "      <td>2ba31cc4-df9e-4c21-9dbc-bb8fa9af424f</td>\n",
              "      <td>astral projection</td>\n",
              "      <td>23</td>\n",
              "      <td>492</td>\n",
              "      <td>2999</td>\n",
              "      <td>1</td>\n",
              "    </tr>\n",
              "    <tr>\n",
              "      <th>28413</th>\n",
              "      <td>0067befb4bbb070a89c25b29c61a81b507c89cb8</td>\n",
              "      <td>2ba31cc4-df9e-4c21-9dbc-bb8fa9af424f</td>\n",
              "      <td>astral projection</td>\n",
              "      <td>279</td>\n",
              "      <td>580</td>\n",
              "      <td>2999</td>\n",
              "      <td>1</td>\n",
              "    </tr>\n",
              "    <tr>\n",
              "      <th>46759</th>\n",
              "      <td>00af782068a9f5f144356c6d94c41121ad64558f</td>\n",
              "      <td>2ba31cc4-df9e-4c21-9dbc-bb8fa9af424f</td>\n",
              "      <td>astral projection</td>\n",
              "      <td>493</td>\n",
              "      <td>947</td>\n",
              "      <td>2999</td>\n",
              "      <td>1</td>\n",
              "    </tr>\n",
              "    <tr>\n",
              "      <th>50186</th>\n",
              "      <td>00b853397a79019699fba7ceb1dbb8e47ec94a67</td>\n",
              "      <td>2ba31cc4-df9e-4c21-9dbc-bb8fa9af424f</td>\n",
              "      <td>astral projection</td>\n",
              "      <td>43</td>\n",
              "      <td>1019</td>\n",
              "      <td>2999</td>\n",
              "      <td>1</td>\n",
              "    </tr>\n",
              "    <tr>\n",
              "      <th>55536</th>\n",
              "      <td>00c9a104d247d4ad4791e466e27007bfd75d5fc4</td>\n",
              "      <td>2ba31cc4-df9e-4c21-9dbc-bb8fa9af424f</td>\n",
              "      <td>astral projection</td>\n",
              "      <td>139</td>\n",
              "      <td>1126</td>\n",
              "      <td>2999</td>\n",
              "      <td>1</td>\n",
              "    </tr>\n",
              "    <tr>\n",
              "      <th>59092</th>\n",
              "      <td>00d591fd9392d8afe3687ddc547892b9dec91981</td>\n",
              "      <td>2ba31cc4-df9e-4c21-9dbc-bb8fa9af424f</td>\n",
              "      <td>astral projection</td>\n",
              "      <td>691</td>\n",
              "      <td>1197</td>\n",
              "      <td>2999</td>\n",
              "      <td>1</td>\n",
              "    </tr>\n",
              "    <tr>\n",
              "      <th>60787</th>\n",
              "      <td>00dc0df886765126c2c5f1441b908f16221a0c36</td>\n",
              "      <td>2ba31cc4-df9e-4c21-9dbc-bb8fa9af424f</td>\n",
              "      <td>astral projection</td>\n",
              "      <td>7</td>\n",
              "      <td>1232</td>\n",
              "      <td>2999</td>\n",
              "      <td>1</td>\n",
              "    </tr>\n",
              "    <tr>\n",
              "      <th>69947</th>\n",
              "      <td>00fca38f722b35c3ea7d4f6ceb7573e7c792d22a</td>\n",
              "      <td>2ba31cc4-df9e-4c21-9dbc-bb8fa9af424f</td>\n",
              "      <td>astral projection</td>\n",
              "      <td>65</td>\n",
              "      <td>1421</td>\n",
              "      <td>2999</td>\n",
              "      <td>1</td>\n",
              "    </tr>\n",
              "    <tr>\n",
              "      <th>71969</th>\n",
              "      <td>0105b87b15f984dfc27bda213e37b4a8f1bd95ed</td>\n",
              "      <td>2ba31cc4-df9e-4c21-9dbc-bb8fa9af424f</td>\n",
              "      <td>astral projection</td>\n",
              "      <td>212</td>\n",
              "      <td>1463</td>\n",
              "      <td>2999</td>\n",
              "      <td>1</td>\n",
              "    </tr>\n",
              "    <tr>\n",
              "      <th>78392</th>\n",
              "      <td>011d7e96f16ccab26b9ce0aae83cd59e0518dee8</td>\n",
              "      <td>2ba31cc4-df9e-4c21-9dbc-bb8fa9af424f</td>\n",
              "      <td>astral projection</td>\n",
              "      <td>7</td>\n",
              "      <td>1594</td>\n",
              "      <td>2999</td>\n",
              "      <td>1</td>\n",
              "    </tr>\n",
              "    <tr>\n",
              "      <th>85808</th>\n",
              "      <td>013689535f8b39018beefaeaa9ceb2dce0251b91</td>\n",
              "      <td>2ba31cc4-df9e-4c21-9dbc-bb8fa9af424f</td>\n",
              "      <td>astral projection</td>\n",
              "      <td>7</td>\n",
              "      <td>1744</td>\n",
              "      <td>2999</td>\n",
              "      <td>1</td>\n",
              "    </tr>\n",
              "    <tr>\n",
              "      <th>87458</th>\n",
              "      <td>013c3ac26921ac5b59061fe08c58108617ab4829</td>\n",
              "      <td>2ba31cc4-df9e-4c21-9dbc-bb8fa9af424f</td>\n",
              "      <td>astral projection</td>\n",
              "      <td>852</td>\n",
              "      <td>1778</td>\n",
              "      <td>2999</td>\n",
              "      <td>1</td>\n",
              "    </tr>\n",
              "    <tr>\n",
              "      <th>94794</th>\n",
              "      <td>015788cdfa2224ecec3cb685a2d62bb914c89b48</td>\n",
              "      <td>2ba31cc4-df9e-4c21-9dbc-bb8fa9af424f</td>\n",
              "      <td>astral projection</td>\n",
              "      <td>3</td>\n",
              "      <td>1927</td>\n",
              "      <td>2999</td>\n",
              "      <td>0</td>\n",
              "    </tr>\n",
              "  </tbody>\n",
              "</table>\n",
              "</div>"
            ],
            "text/plain": [
              "                                          users  ... rating\n",
              "4854   00108be8919f5f8e1249af2207579f9861c1e1d6  ...      1\n",
              "20009  0047f55f1afb53fe486b76cc67957bdef7da9de3  ...      1\n",
              "24219  005866ea52fa3ec8b92f30a547eaf7614daf4246  ...      1\n",
              "28413  0067befb4bbb070a89c25b29c61a81b507c89cb8  ...      1\n",
              "46759  00af782068a9f5f144356c6d94c41121ad64558f  ...      1\n",
              "50186  00b853397a79019699fba7ceb1dbb8e47ec94a67  ...      1\n",
              "55536  00c9a104d247d4ad4791e466e27007bfd75d5fc4  ...      1\n",
              "59092  00d591fd9392d8afe3687ddc547892b9dec91981  ...      1\n",
              "60787  00dc0df886765126c2c5f1441b908f16221a0c36  ...      1\n",
              "69947  00fca38f722b35c3ea7d4f6ceb7573e7c792d22a  ...      1\n",
              "71969  0105b87b15f984dfc27bda213e37b4a8f1bd95ed  ...      1\n",
              "78392  011d7e96f16ccab26b9ce0aae83cd59e0518dee8  ...      1\n",
              "85808  013689535f8b39018beefaeaa9ceb2dce0251b91  ...      1\n",
              "87458  013c3ac26921ac5b59061fe08c58108617ab4829  ...      1\n",
              "94794  015788cdfa2224ecec3cb685a2d62bb914c89b48  ...      0\n",
              "\n",
              "[15 rows x 7 columns]"
            ]
          },
          "metadata": {
            "tags": []
          },
          "execution_count": 26
        }
      ]
    },
    {
      "cell_type": "markdown",
      "metadata": {
        "id": "gVfWKAg_MSsL",
        "colab_type": "text"
      },
      "source": [
        "# Время магии! Давайте создадим модель\n",
        "\n",
        "\n"
      ]
    },
    {
      "cell_type": "code",
      "metadata": {
        "id": "T4JBUIGwvjCD",
        "colab_type": "code",
        "colab": {}
      },
      "source": [
        "#Создадим модель LightFM с аргументами (loss=LOSS, no_components=NO_COMPONENTS)\n",
        "LOSS = \"warp\" # Алгоритм обучения \n",
        "NO_COMPONENTS = 30 # Размер пространства, Введите ваш код тут\n",
        "model = LightFM(loss=LOSS, no_components=NO_COMPONENTS) # Создаём модель тут, введите ваш код тут model(...)"
      ],
      "execution_count": 0,
      "outputs": []
    },
    {
      "cell_type": "markdown",
      "metadata": {
        "id": "boJzUhOaOeoX",
        "colab_type": "text"
      },
      "source": [
        "# Обучим модель"
      ]
    },
    {
      "cell_type": "code",
      "metadata": {
        "id": "NZ8FkowXOeLR",
        "colab_type": "code",
        "outputId": "9ba25fdb-fb9c-4df7-9488-649091ce683a",
        "colab": {
          "base_uri": "https://localhost:8080/",
          "height": 35
        }
      },
      "source": [
        "# Обучаем модель, нужно вызвать функцию .fit у нашей модели model с аргументами (data,epochs)\n",
        "# Наши данные - это рейтинги пользователей ratings_sparse\n",
        "data = ratings_sparse #ваш код тут\n",
        "\n",
        "# обучаем модель, введите ваш код тут model.fit(...)\n",
        "model.fit(data) #ваш код тут"
      ],
      "execution_count": 27,
      "outputs": [
        {
          "output_type": "execute_result",
          "data": {
            "text/plain": [
              "<lightfm.lightfm.LightFM at 0x7fd2c22c2940>"
            ]
          },
          "metadata": {
            "tags": []
          },
          "execution_count": 27
        }
      ]
    },
    {
      "cell_type": "markdown",
      "metadata": {
        "id": "1uxsF5zxP0Op",
        "colab_type": "text"
      },
      "source": [
        "# Используем модель"
      ]
    },
    {
      "cell_type": "code",
      "metadata": {
        "id": "d8_y-dZAv-6Q",
        "colab_type": "code",
        "colab": {}
      },
      "source": [
        "#Тут мы получаем новое представление наших данных\n",
        "_, item_embeddings = model.get_item_representations()\n",
        "#Построим поиск\n",
        "nms_idx = init_nms(item_embeddings)"
      ],
      "execution_count": 0,
      "outputs": []
    },
    {
      "cell_type": "code",
      "metadata": {
        "id": "BgnD39_YfAcT",
        "colab_type": "code",
        "colab": {
          "base_uri": "https://localhost:8080/",
          "height": 243
        },
        "outputId": "1b88111b-6b2c-4db5-e03f-5a13109e2742"
      },
      "source": [
        "item_embeddings"
      ],
      "execution_count": 29,
      "outputs": [
        {
          "output_type": "execute_result",
          "data": {
            "text/plain": [
              "array([[-0.09601262, -0.08087606,  0.17442212, ...,  0.13334578,\n",
              "         0.01931658,  0.03088819],\n",
              "       [ 0.0272222 , -0.28315884,  0.24868073, ..., -0.12117117,\n",
              "        -0.04359172,  0.24900919],\n",
              "       [-0.08289543, -0.00682666, -0.03213279, ..., -0.0738355 ,\n",
              "         0.05007945,  0.0093785 ],\n",
              "       ...,\n",
              "       [-0.00217165, -0.06535011, -0.07149906, ..., -0.10184061,\n",
              "        -0.08815156, -0.15935628],\n",
              "       [ 0.00585659, -0.05409172,  0.00912454, ...,  0.06628176,\n",
              "        -0.02867902, -0.01459018],\n",
              "       [ 0.0370678 ,  0.12073733, -0.07504865, ..., -0.06943889,\n",
              "         0.00115133, -0.01650415]], dtype=float32)"
            ]
          },
          "metadata": {
            "tags": []
          },
          "execution_count": 29
        }
      ]
    },
    {
      "cell_type": "markdown",
      "metadata": {
        "id": "Va_CGhJX5t4C",
        "colab_type": "text"
      },
      "source": [
        "# Вспомогательная функция\n"
      ]
    },
    {
      "cell_type": "code",
      "metadata": {
        "id": "S36w-_5PwZdx",
        "colab_type": "code",
        "colab": {}
      },
      "source": [
        "#Вспомогательная функция для поиска ближайших композиторов\n",
        "def nearest_artist_nms(artist_id, index, n=10):\n",
        "    #Возвращает ближайших композиторов\n",
        "    nn = index.knnQuery(item_embeddings[artist_id], k=n)\n",
        "    return nn"
      ],
      "execution_count": 0,
      "outputs": []
    },
    {
      "cell_type": "markdown",
      "metadata": {
        "id": "9ztpmRFO6FJx",
        "colab_type": "text"
      },
      "source": [
        "# Выбираем исполнителя для рекомендации"
      ]
    },
    {
      "cell_type": "code",
      "metadata": {
        "id": "kjYDxLMX7et1",
        "colab_type": "code",
        "cellView": "both",
        "outputId": "6c5eb642-3bf8-467b-87de-83549e5c87b3",
        "colab": {
          "base_uri": "https://localhost:8080/",
          "height": 415
        }
      },
      "source": [
        "#@title Выберем исполнителя\n",
        "music_name = \"infected mushroom\" #@param {type:\"string\"}\n",
        "#ID = 7356 #@param {type:\"number\"}\n",
        "ID = music[music['artist_name'].str.find(music_name)>=0].iloc[0].artist_id\n",
        "music[music['artist_name'].str.find(music_name)>=0]"
      ],
      "execution_count": 41,
      "outputs": [
        {
          "output_type": "execute_result",
          "data": {
            "text/html": [
              "<div>\n",
              "<style scoped>\n",
              "    .dataframe tbody tr th:only-of-type {\n",
              "        vertical-align: middle;\n",
              "    }\n",
              "\n",
              "    .dataframe tbody tr th {\n",
              "        vertical-align: top;\n",
              "    }\n",
              "\n",
              "    .dataframe thead th {\n",
              "        text-align: right;\n",
              "    }\n",
              "</style>\n",
              "<table border=\"1\" class=\"dataframe\">\n",
              "  <thead>\n",
              "    <tr style=\"text-align: right;\">\n",
              "      <th></th>\n",
              "      <th>users</th>\n",
              "      <th>artist</th>\n",
              "      <th>artist_name</th>\n",
              "      <th>play_times</th>\n",
              "      <th>id</th>\n",
              "      <th>artist_id</th>\n",
              "      <th>rating</th>\n",
              "    </tr>\n",
              "  </thead>\n",
              "  <tbody>\n",
              "    <tr>\n",
              "      <th>491</th>\n",
              "      <td>0001399387da41d557219578fb08b12afa25ab67</td>\n",
              "      <td>eab76c9f-ff91-4431-b6dd-3b976c598020</td>\n",
              "      <td>infected mushroom</td>\n",
              "      <td>45</td>\n",
              "      <td>9</td>\n",
              "      <td>457</td>\n",
              "      <td>1</td>\n",
              "    </tr>\n",
              "    <tr>\n",
              "      <th>1931</th>\n",
              "      <td>000701c3c006b091990162635b36b008c504c6a7</td>\n",
              "      <td>eab76c9f-ff91-4431-b6dd-3b976c598020</td>\n",
              "      <td>infected mushroom</td>\n",
              "      <td>155</td>\n",
              "      <td>40</td>\n",
              "      <td>457</td>\n",
              "      <td>1</td>\n",
              "    </tr>\n",
              "    <tr>\n",
              "      <th>4849</th>\n",
              "      <td>00108be8919f5f8e1249af2207579f9861c1e1d6</td>\n",
              "      <td>eab76c9f-ff91-4431-b6dd-3b976c598020</td>\n",
              "      <td>infected mushroom</td>\n",
              "      <td>210</td>\n",
              "      <td>99</td>\n",
              "      <td>457</td>\n",
              "      <td>1</td>\n",
              "    </tr>\n",
              "    <tr>\n",
              "      <th>6206</th>\n",
              "      <td>0014af6184dc17e4426168a35c536d7e1d030fc3</td>\n",
              "      <td>eab76c9f-ff91-4431-b6dd-3b976c598020</td>\n",
              "      <td>infected mushroom</td>\n",
              "      <td>54</td>\n",
              "      <td>126</td>\n",
              "      <td>457</td>\n",
              "      <td>1</td>\n",
              "    </tr>\n",
              "    <tr>\n",
              "      <th>8986</th>\n",
              "      <td>00210ed8d97f55b19271c1a3f0fa004be255222a</td>\n",
              "      <td>eab76c9f-ff91-4431-b6dd-3b976c598020</td>\n",
              "      <td>infected mushroom</td>\n",
              "      <td>321</td>\n",
              "      <td>184</td>\n",
              "      <td>457</td>\n",
              "      <td>1</td>\n",
              "    </tr>\n",
              "    <tr>\n",
              "      <th>...</th>\n",
              "      <td>...</td>\n",
              "      <td>...</td>\n",
              "      <td>...</td>\n",
              "      <td>...</td>\n",
              "      <td>...</td>\n",
              "      <td>...</td>\n",
              "      <td>...</td>\n",
              "    </tr>\n",
              "    <tr>\n",
              "      <th>92104</th>\n",
              "      <td>014d12e642d3adb0472d6d5364450b2e7d0ebace</td>\n",
              "      <td>eab76c9f-ff91-4431-b6dd-3b976c598020</td>\n",
              "      <td>infected mushroom</td>\n",
              "      <td>53</td>\n",
              "      <td>1871</td>\n",
              "      <td>457</td>\n",
              "      <td>1</td>\n",
              "    </tr>\n",
              "    <tr>\n",
              "      <th>92737</th>\n",
              "      <td>014fde8ec5d4eb7f7a42b9aff0e866173c3415e1</td>\n",
              "      <td>eab76c9f-ff91-4431-b6dd-3b976c598020</td>\n",
              "      <td>infected mushroom</td>\n",
              "      <td>293</td>\n",
              "      <td>1884</td>\n",
              "      <td>457</td>\n",
              "      <td>1</td>\n",
              "    </tr>\n",
              "    <tr>\n",
              "      <th>95695</th>\n",
              "      <td>015a0c0534709c4b5e663081e7414d33244b7e19</td>\n",
              "      <td>eab76c9f-ff91-4431-b6dd-3b976c598020</td>\n",
              "      <td>infected mushroom</td>\n",
              "      <td>347</td>\n",
              "      <td>1945</td>\n",
              "      <td>457</td>\n",
              "      <td>1</td>\n",
              "    </tr>\n",
              "    <tr>\n",
              "      <th>96736</th>\n",
              "      <td>015cd6c13cb312a8a68c3202a1f9d9c06fc38e38</td>\n",
              "      <td>eab76c9f-ff91-4431-b6dd-3b976c598020</td>\n",
              "      <td>infected mushroom</td>\n",
              "      <td>281</td>\n",
              "      <td>1966</td>\n",
              "      <td>457</td>\n",
              "      <td>1</td>\n",
              "    </tr>\n",
              "    <tr>\n",
              "      <th>99320</th>\n",
              "      <td>01667abcebb8f51f35eec2594415be5651fd5def</td>\n",
              "      <td>eab76c9f-ff91-4431-b6dd-3b976c598020</td>\n",
              "      <td>infected mushroom</td>\n",
              "      <td>338</td>\n",
              "      <td>2017</td>\n",
              "      <td>457</td>\n",
              "      <td>1</td>\n",
              "    </tr>\n",
              "  </tbody>\n",
              "</table>\n",
              "<p>64 rows × 7 columns</p>\n",
              "</div>"
            ],
            "text/plain": [
              "                                          users  ... rating\n",
              "491    0001399387da41d557219578fb08b12afa25ab67  ...      1\n",
              "1931   000701c3c006b091990162635b36b008c504c6a7  ...      1\n",
              "4849   00108be8919f5f8e1249af2207579f9861c1e1d6  ...      1\n",
              "6206   0014af6184dc17e4426168a35c536d7e1d030fc3  ...      1\n",
              "8986   00210ed8d97f55b19271c1a3f0fa004be255222a  ...      1\n",
              "...                                         ...  ...    ...\n",
              "92104  014d12e642d3adb0472d6d5364450b2e7d0ebace  ...      1\n",
              "92737  014fde8ec5d4eb7f7a42b9aff0e866173c3415e1  ...      1\n",
              "95695  015a0c0534709c4b5e663081e7414d33244b7e19  ...      1\n",
              "96736  015cd6c13cb312a8a68c3202a1f9d9c06fc38e38  ...      1\n",
              "99320  01667abcebb8f51f35eec2594415be5651fd5def  ...      1\n",
              "\n",
              "[64 rows x 7 columns]"
            ]
          },
          "metadata": {
            "tags": []
          },
          "execution_count": 41
        }
      ]
    },
    {
      "cell_type": "markdown",
      "metadata": {
        "id": "cjGQaR9q6C6L",
        "colab_type": "text"
      },
      "source": [
        "# Получим рекомендации"
      ]
    },
    {
      "cell_type": "code",
      "metadata": {
        "id": "YVEnS-n_RJrO",
        "colab_type": "code",
        "colab": {}
      },
      "source": [
        "# Получаем рекомендации\n",
        "rec = nearest_artist_nms(ID,nms_idx)[0]"
      ],
      "execution_count": 0,
      "outputs": []
    },
    {
      "cell_type": "markdown",
      "metadata": {
        "id": "H2GwigrT5_XG",
        "colab_type": "text"
      },
      "source": [
        "# Выведем наши рекомендации"
      ]
    },
    {
      "cell_type": "code",
      "metadata": {
        "id": "eQRyrC8z8KXQ",
        "colab_type": "code",
        "outputId": "ae77e905-8142-4ae0-81ec-4b76fdfc14f5",
        "colab": {
          "base_uri": "https://localhost:8080/",
          "height": 355
        }
      },
      "source": [
        "# воспользуемся таблицей music и функцией .loc с аргументами [rec], тут нужно использовать\n",
        "# квадратные скобки\n",
        "# Ваш код тут\n",
        "music.loc[rec]"
      ],
      "execution_count": 43,
      "outputs": [
        {
          "output_type": "execute_result",
          "data": {
            "text/html": [
              "<div>\n",
              "<style scoped>\n",
              "    .dataframe tbody tr th:only-of-type {\n",
              "        vertical-align: middle;\n",
              "    }\n",
              "\n",
              "    .dataframe tbody tr th {\n",
              "        vertical-align: top;\n",
              "    }\n",
              "\n",
              "    .dataframe thead th {\n",
              "        text-align: right;\n",
              "    }\n",
              "</style>\n",
              "<table border=\"1\" class=\"dataframe\">\n",
              "  <thead>\n",
              "    <tr style=\"text-align: right;\">\n",
              "      <th></th>\n",
              "      <th>users</th>\n",
              "      <th>artist</th>\n",
              "      <th>artist_name</th>\n",
              "      <th>play_times</th>\n",
              "      <th>id</th>\n",
              "      <th>artist_id</th>\n",
              "      <th>rating</th>\n",
              "    </tr>\n",
              "  </thead>\n",
              "  <tbody>\n",
              "    <tr>\n",
              "      <th>457</th>\n",
              "      <td>0001399387da41d557219578fb08b12afa25ab67</td>\n",
              "      <td>4ea2fd64-834c-4d78-8f4c-2a900c439031</td>\n",
              "      <td>haggard</td>\n",
              "      <td>305</td>\n",
              "      <td>9</td>\n",
              "      <td>425</td>\n",
              "      <td>1</td>\n",
              "    </tr>\n",
              "    <tr>\n",
              "      <th>758</th>\n",
              "      <td>00024b5b85c40f990c28644d53257819980bf6bb</td>\n",
              "      <td>bc68928b-fbb5-4aac-baae-52ba49202372</td>\n",
              "      <td>the weakerthans</td>\n",
              "      <td>446</td>\n",
              "      <td>15</td>\n",
              "      <td>683</td>\n",
              "      <td>1</td>\n",
              "    </tr>\n",
              "    <tr>\n",
              "      <th>3004</th>\n",
              "      <td>000a4fba9046379163980531da4e211bb2d20f3a</td>\n",
              "      <td>NaN</td>\n",
              "      <td>bach - gv - jarrett</td>\n",
              "      <td>126</td>\n",
              "      <td>62</td>\n",
              "      <td>158</td>\n",
              "      <td>1</td>\n",
              "    </tr>\n",
              "    <tr>\n",
              "      <th>265</th>\n",
              "      <td>0000c176103e538d5c9828e695fed4f7ae42dd01</td>\n",
              "      <td>7c158ea8-c0aa-410e-bdc1-20bba9759577</td>\n",
              "      <td>the cinematic orchestra</td>\n",
              "      <td>366</td>\n",
              "      <td>5</td>\n",
              "      <td>252</td>\n",
              "      <td>1</td>\n",
              "    </tr>\n",
              "    <tr>\n",
              "      <th>10846</th>\n",
              "      <td>0027bdefcde28fe58e126906c08c58d843b77c69</td>\n",
              "      <td>2bfe4c84-c223-4671-a67b-a7d40fef20a3</td>\n",
              "      <td>ashbury heights</td>\n",
              "      <td>5</td>\n",
              "      <td>223</td>\n",
              "      <td>5618</td>\n",
              "      <td>0</td>\n",
              "    </tr>\n",
              "    <tr>\n",
              "      <th>10077</th>\n",
              "      <td>00248667343aef7179c66db4d3d4de737403c572</td>\n",
              "      <td>0482b88f-bef1-4b98-8573-5d2cd81bd4c3</td>\n",
              "      <td>eldkvarn</td>\n",
              "      <td>331</td>\n",
              "      <td>206</td>\n",
              "      <td>5356</td>\n",
              "      <td>1</td>\n",
              "    </tr>\n",
              "    <tr>\n",
              "      <th>7750</th>\n",
              "      <td>001a3fe32ff4928b7b5b4fa5b7711b8ff9d86786</td>\n",
              "      <td>025fa58b-fadf-4a4b-9c88-9d6d94037e59</td>\n",
              "      <td>deadmau5 vs. jelo</td>\n",
              "      <td>3</td>\n",
              "      <td>158</td>\n",
              "      <td>4403</td>\n",
              "      <td>0</td>\n",
              "    </tr>\n",
              "    <tr>\n",
              "      <th>8564</th>\n",
              "      <td>001f9738eee17f844fb965e139582115c6a1c49d</td>\n",
              "      <td>28503ab7-8bf2-4666-a7bd-2644bfc7cb1d</td>\n",
              "      <td>dream theater</td>\n",
              "      <td>2897</td>\n",
              "      <td>175</td>\n",
              "      <td>280</td>\n",
              "      <td>1</td>\n",
              "    </tr>\n",
              "    <tr>\n",
              "      <th>909</th>\n",
              "      <td>00029d80b8af94f2d5e3349ceb28b7304f80c1c4</td>\n",
              "      <td>65314b12-0e08-43fa-ba33-baaa7b874c15</td>\n",
              "      <td>leonard cohen</td>\n",
              "      <td>227</td>\n",
              "      <td>18</td>\n",
              "      <td>778</td>\n",
              "      <td>1</td>\n",
              "    </tr>\n",
              "    <tr>\n",
              "      <th>13460</th>\n",
              "      <td>003026511145551b573af4202544ced3d360947a</td>\n",
              "      <td>5aca3051-afa2-4f5c-9974-cc9418482a58</td>\n",
              "      <td>glen hansard &amp; marketa irglova</td>\n",
              "      <td>37</td>\n",
              "      <td>273</td>\n",
              "      <td>2090</td>\n",
              "      <td>1</td>\n",
              "    </tr>\n",
              "  </tbody>\n",
              "</table>\n",
              "</div>"
            ],
            "text/plain": [
              "                                          users  ... rating\n",
              "457    0001399387da41d557219578fb08b12afa25ab67  ...      1\n",
              "758    00024b5b85c40f990c28644d53257819980bf6bb  ...      1\n",
              "3004   000a4fba9046379163980531da4e211bb2d20f3a  ...      1\n",
              "265    0000c176103e538d5c9828e695fed4f7ae42dd01  ...      1\n",
              "10846  0027bdefcde28fe58e126906c08c58d843b77c69  ...      0\n",
              "10077  00248667343aef7179c66db4d3d4de737403c572  ...      1\n",
              "7750   001a3fe32ff4928b7b5b4fa5b7711b8ff9d86786  ...      0\n",
              "8564   001f9738eee17f844fb965e139582115c6a1c49d  ...      1\n",
              "909    00029d80b8af94f2d5e3349ceb28b7304f80c1c4  ...      1\n",
              "13460  003026511145551b573af4202544ced3d360947a  ...      1\n",
              "\n",
              "[10 rows x 7 columns]"
            ]
          },
          "metadata": {
            "tags": []
          },
          "execution_count": 43
        }
      ]
    },
    {
      "cell_type": "markdown",
      "metadata": {
        "id": "AMQyXNQe6s6p",
        "colab_type": "text"
      },
      "source": [
        "## Как можно улучшить нашу модель?\n"
      ]
    },
    {
      "cell_type": "code",
      "metadata": {
        "id": "nzH3WVKv42Rb",
        "colab_type": "code",
        "outputId": "a9c05f50-cc21-4c59-9722-7c2e62a24be8",
        "colab": {
          "base_uri": "https://localhost:8080/",
          "height": 35
        }
      },
      "source": [
        "#@title Выберем кол-во эпох для обучения\n",
        "# Обучаем модель, нужно вызвать функцию .fit у нашей модели model с аргументами (data,epochs)\n",
        "epochs =  20#@param {type:\"number\"}\n",
        "model.fit(data,epochs=epochs) # обучаем модель"
      ],
      "execution_count": 44,
      "outputs": [
        {
          "output_type": "execute_result",
          "data": {
            "text/plain": [
              "<lightfm.lightfm.LightFM at 0x7fd2c22c2940>"
            ]
          },
          "metadata": {
            "tags": []
          },
          "execution_count": 44
        }
      ]
    },
    {
      "cell_type": "code",
      "metadata": {
        "id": "1jiJgZnp42UM",
        "colab_type": "code",
        "colab": {}
      },
      "source": [
        "#Тут мы получаем новое представление наших данных\n",
        "_, item_embeddings = model.get_item_representations()\n",
        "#Построим поиск\n",
        "nms_idx = init_nms(item_embeddings)"
      ],
      "execution_count": 0,
      "outputs": []
    },
    {
      "cell_type": "code",
      "metadata": {
        "id": "vk_Eu9J942bA",
        "colab_type": "code",
        "colab": {}
      },
      "source": [
        "# Получаем рекомендации\n",
        "rec = nearest_artist_nms(ID,nms_idx)[0]"
      ],
      "execution_count": 0,
      "outputs": []
    },
    {
      "cell_type": "code",
      "metadata": {
        "id": "Ig-etPtuDCw-",
        "colab_type": "code",
        "outputId": "7d9f077e-2600-4d8c-b535-c5ad960d38f2",
        "colab": {
          "base_uri": "https://localhost:8080/",
          "height": 355
        }
      },
      "source": [
        "music.loc[rec]"
      ],
      "execution_count": 47,
      "outputs": [
        {
          "output_type": "execute_result",
          "data": {
            "text/html": [
              "<div>\n",
              "<style scoped>\n",
              "    .dataframe tbody tr th:only-of-type {\n",
              "        vertical-align: middle;\n",
              "    }\n",
              "\n",
              "    .dataframe tbody tr th {\n",
              "        vertical-align: top;\n",
              "    }\n",
              "\n",
              "    .dataframe thead th {\n",
              "        text-align: right;\n",
              "    }\n",
              "</style>\n",
              "<table border=\"1\" class=\"dataframe\">\n",
              "  <thead>\n",
              "    <tr style=\"text-align: right;\">\n",
              "      <th></th>\n",
              "      <th>users</th>\n",
              "      <th>artist</th>\n",
              "      <th>artist_name</th>\n",
              "      <th>play_times</th>\n",
              "      <th>id</th>\n",
              "      <th>artist_id</th>\n",
              "      <th>rating</th>\n",
              "    </tr>\n",
              "  </thead>\n",
              "  <tbody>\n",
              "    <tr>\n",
              "      <th>457</th>\n",
              "      <td>0001399387da41d557219578fb08b12afa25ab67</td>\n",
              "      <td>4ea2fd64-834c-4d78-8f4c-2a900c439031</td>\n",
              "      <td>haggard</td>\n",
              "      <td>305</td>\n",
              "      <td>9</td>\n",
              "      <td>425</td>\n",
              "      <td>1</td>\n",
              "    </tr>\n",
              "    <tr>\n",
              "      <th>10102</th>\n",
              "      <td>0024cd03616cfa4593466644dea6eca741f17b59</td>\n",
              "      <td>4ea2fd64-834c-4d78-8f4c-2a900c439031</td>\n",
              "      <td>haggard</td>\n",
              "      <td>16</td>\n",
              "      <td>207</td>\n",
              "      <td>425</td>\n",
              "      <td>1</td>\n",
              "    </tr>\n",
              "    <tr>\n",
              "      <th>265</th>\n",
              "      <td>0000c176103e538d5c9828e695fed4f7ae42dd01</td>\n",
              "      <td>7c158ea8-c0aa-410e-bdc1-20bba9759577</td>\n",
              "      <td>the cinematic orchestra</td>\n",
              "      <td>366</td>\n",
              "      <td>5</td>\n",
              "      <td>252</td>\n",
              "      <td>1</td>\n",
              "    </tr>\n",
              "    <tr>\n",
              "      <th>19967</th>\n",
              "      <td>0047f55f1afb53fe486b76cc67957bdef7da9de3</td>\n",
              "      <td>1cc5adcd-1422-4b5c-a3cd-3ecd4f43f506</td>\n",
              "      <td>beck</td>\n",
              "      <td>21</td>\n",
              "      <td>404</td>\n",
              "      <td>671</td>\n",
              "      <td>1</td>\n",
              "    </tr>\n",
              "    <tr>\n",
              "      <th>193</th>\n",
              "      <td>000063d3fe1cf2ba248b9e3c3f0334845a27a6bf</td>\n",
              "      <td>cc0b7089-c08d-4c10-b6b0-873582c17fd6</td>\n",
              "      <td>system of a down</td>\n",
              "      <td>3</td>\n",
              "      <td>3</td>\n",
              "      <td>193</td>\n",
              "      <td>0</td>\n",
              "    </tr>\n",
              "    <tr>\n",
              "      <th>3009</th>\n",
              "      <td>000a4fba9046379163980531da4e211bb2d20f3a</td>\n",
              "      <td>bd513de0-e42f-425e-ae46-817d7bc5fb1c</td>\n",
              "      <td>archive</td>\n",
              "      <td>69</td>\n",
              "      <td>62</td>\n",
              "      <td>2098</td>\n",
              "      <td>1</td>\n",
              "    </tr>\n",
              "    <tr>\n",
              "      <th>421</th>\n",
              "      <td>0000f687d4fe9c1ed49620fbc5ed5b0d7798ea20</td>\n",
              "      <td>51d0f1d0-26c5-482d-b466-1ddbe09e735f</td>\n",
              "      <td>ana torroja</td>\n",
              "      <td>4</td>\n",
              "      <td>8</td>\n",
              "      <td>394</td>\n",
              "      <td>0</td>\n",
              "    </tr>\n",
              "    <tr>\n",
              "      <th>909</th>\n",
              "      <td>00029d80b8af94f2d5e3349ceb28b7304f80c1c4</td>\n",
              "      <td>65314b12-0e08-43fa-ba33-baaa7b874c15</td>\n",
              "      <td>leonard cohen</td>\n",
              "      <td>227</td>\n",
              "      <td>18</td>\n",
              "      <td>778</td>\n",
              "      <td>1</td>\n",
              "    </tr>\n",
              "    <tr>\n",
              "      <th>5714</th>\n",
              "      <td>0012ca63201c1d170b31b8728394931612c8f50f</td>\n",
              "      <td>8f6bd1e4-fbe1-4f50-aa9b-94c450ec0f11</td>\n",
              "      <td>portishead</td>\n",
              "      <td>39</td>\n",
              "      <td>116</td>\n",
              "      <td>202</td>\n",
              "      <td>1</td>\n",
              "    </tr>\n",
              "    <tr>\n",
              "      <th>4893</th>\n",
              "      <td>00108be8919f5f8e1249af2207579f9861c1e1d6</td>\n",
              "      <td>ebd7d505-9eb8-4c74-9dd4-ebe308e04d72</td>\n",
              "      <td>dj shah</td>\n",
              "      <td>15</td>\n",
              "      <td>99</td>\n",
              "      <td>3017</td>\n",
              "      <td>1</td>\n",
              "    </tr>\n",
              "  </tbody>\n",
              "</table>\n",
              "</div>"
            ],
            "text/plain": [
              "                                          users  ... rating\n",
              "457    0001399387da41d557219578fb08b12afa25ab67  ...      1\n",
              "10102  0024cd03616cfa4593466644dea6eca741f17b59  ...      1\n",
              "265    0000c176103e538d5c9828e695fed4f7ae42dd01  ...      1\n",
              "19967  0047f55f1afb53fe486b76cc67957bdef7da9de3  ...      1\n",
              "193    000063d3fe1cf2ba248b9e3c3f0334845a27a6bf  ...      0\n",
              "3009   000a4fba9046379163980531da4e211bb2d20f3a  ...      1\n",
              "421    0000f687d4fe9c1ed49620fbc5ed5b0d7798ea20  ...      0\n",
              "909    00029d80b8af94f2d5e3349ceb28b7304f80c1c4  ...      1\n",
              "5714   0012ca63201c1d170b31b8728394931612c8f50f  ...      1\n",
              "4893   00108be8919f5f8e1249af2207579f9861c1e1d6  ...      1\n",
              "\n",
              "[10 rows x 7 columns]"
            ]
          },
          "metadata": {
            "tags": []
          },
          "execution_count": 47
        }
      ]
    },
    {
      "cell_type": "markdown",
      "metadata": {
        "id": "dBtXkM-H7W3y",
        "colab_type": "text"
      },
      "source": [
        "# А что если изменить размерность нашего пространства с 30 до 1\n"
      ]
    },
    {
      "cell_type": "code",
      "metadata": {
        "id": "vws18zV17bjE",
        "colab_type": "code",
        "outputId": "a546fcf0-1eab-4922-fee2-1e5a449c122b",
        "colab": {
          "base_uri": "https://localhost:8080/",
          "height": 35
        }
      },
      "source": [
        "NO_COMPONENTS =   1#@param {type:\"number\"}\n",
        "model = LightFM(loss=LOSS, no_components = NO_COMPONENTS) # Создаём модель тут, введите ваш код тут\n",
        "epochs =  20#@param {type:\"number\"}\n",
        "model.fit(data,epochs=epochs) # обучаем модель, введите ваш код тут"
      ],
      "execution_count": 48,
      "outputs": [
        {
          "output_type": "execute_result",
          "data": {
            "text/plain": [
              "<lightfm.lightfm.LightFM at 0x7fd2c2253128>"
            ]
          },
          "metadata": {
            "tags": []
          },
          "execution_count": 48
        }
      ]
    },
    {
      "cell_type": "code",
      "metadata": {
        "id": "93dLwaNi7unr",
        "colab_type": "code",
        "colab": {}
      },
      "source": [
        "#Тут мы получаем новое представление наших данных\n",
        "_, item_embeddings = model.get_item_representations()\n",
        "#Построим поиск\n",
        "nms_idx = init_nms(item_embeddings)"
      ],
      "execution_count": 0,
      "outputs": []
    },
    {
      "cell_type": "code",
      "metadata": {
        "id": "bXjeqv897wNZ",
        "colab_type": "code",
        "colab": {}
      },
      "source": [
        "# Получаем рекомендации\n",
        "rec = nearest_artist_nms(ID,nms_idx)[0]"
      ],
      "execution_count": 0,
      "outputs": []
    },
    {
      "cell_type": "code",
      "metadata": {
        "id": "_L4eOtU9FKyw",
        "colab_type": "code",
        "outputId": "16714173-9f44-4390-e2cd-3de5af1a39cc",
        "colab": {
          "base_uri": "https://localhost:8080/",
          "height": 35
        }
      },
      "source": [
        "nearest_artist_nms(ID,nms_idx)[1]"
      ],
      "execution_count": 51,
      "outputs": [
        {
          "output_type": "execute_result",
          "data": {
            "text/plain": [
              "array([0., 0., 0., 0., 0., 0., 0., 0., 0., 0.], dtype=float32)"
            ]
          },
          "metadata": {
            "tags": []
          },
          "execution_count": 51
        }
      ]
    },
    {
      "cell_type": "code",
      "metadata": {
        "id": "EGZQdAe32kkn",
        "colab_type": "code",
        "colab": {}
      },
      "source": [
        ""
      ],
      "execution_count": 0,
      "outputs": []
    },
    {
      "cell_type": "markdown",
      "metadata": {
        "id": "azCuXEooUIUX",
        "colab_type": "text"
      },
      "source": [
        "Что можно сделать?\n"
      ]
    },
    {
      "cell_type": "markdown",
      "metadata": {
        "id": "9tT7eP54UQC6",
        "colab_type": "text"
      },
      "source": [
        "1.   Изменить параметры размерности!\n",
        "2.   Изменить критерий оценки\n",
        "\n"
      ]
    },
    {
      "cell_type": "code",
      "metadata": {
        "id": "k_uSvImz2YPC",
        "colab_type": "code",
        "colab": {}
      },
      "source": [
        "from lightfm.cross_validation import random_train_test_split\n",
        "from lightfm.evaluation import auc_score, precision_at_k, recall_at_k"
      ],
      "execution_count": 0,
      "outputs": []
    },
    {
      "cell_type": "code",
      "metadata": {
        "id": "1zu91crW2VM3",
        "colab_type": "code",
        "colab": {}
      },
      "source": [
        "train,test = random_train_test_split(ratings_sparse, test_percentage=0.2, random_state=None)"
      ],
      "execution_count": 0,
      "outputs": []
    },
    {
      "cell_type": "code",
      "metadata": {
        "id": "BK9B9lFQ2Rm8",
        "colab_type": "code",
        "outputId": "26d7f660-ca72-4d61-ccb6-6f220d8c7e02",
        "colab": {
          "base_uri": "https://localhost:8080/",
          "height": 35
        }
      },
      "source": [
        "prec_score = precision_at_k(model,\n",
        "                      test,\n",
        "                      num_threads=2,k=10).mean()\n",
        "\n",
        "recall_at_k = recall_at_k(model,\n",
        "                      test,\n",
        "                      num_threads=2,k=10).mean()\n",
        "print(recall_at_k,prec_score)"
      ],
      "execution_count": 54,
      "outputs": [
        {
          "output_type": "stream",
          "text": [
            "0.03974141867014953 0.039074805\n"
          ],
          "name": "stdout"
        }
      ]
    },
    {
      "cell_type": "code",
      "metadata": {
        "id": "n7CwEgtd2dRh",
        "colab_type": "code",
        "colab": {}
      },
      "source": [
        ""
      ],
      "execution_count": 0,
      "outputs": []
    }
  ]
}